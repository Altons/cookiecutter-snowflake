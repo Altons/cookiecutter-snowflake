{
 "cells": [
  {
   "cell_type": "code",
   "execution_count": null,
   "id": "82c8615d-c705-4d0c-b4be-461eeff64a23",
   "metadata": {},
   "outputs": [],
   "source": [
    "#this snippet is for importing the common module from src\n",
    "# use it if you need a connection to snowflake for example\n",
    "import sys\n",
    "import os\n",
    "import snowflake.snowpark as snowpark\n",
    "\n",
    "module_path = os.path.abspath(os.path.join('..'))\n",
    "if module_path not in sys.path:\n",
    "    sys.path.append(module_path+\"/src\")\n",
    "\n",
    "from common.snowflake_connector import connection_parameters, create_snowflake_session\n"
   ]
  },
  {
   "cell_type": "code",
   "execution_count": null,
   "id": "1d9a5572-cde3-4df4-b4b6-b8e296f72768",
   "metadata": {},
   "outputs": [],
   "source": [
    "# import your modules as usual\n",
    "import numpy as np\n",
    "import pandas as pd\n",
    "from pandas_profiling import ProfileReport"
   ]
  },
  {
   "cell_type": "code",
   "execution_count": null,
   "id": "cd588ada-d736-4347-b90a-27ff258bfe29",
   "metadata": {},
   "outputs": [],
   "source": [
    "#create a conn to snowflake - make sure you update the .env file\n",
    "snowflake_session = create_snowflake_session(connection_parameters)"
   ]
  },
  {
   "cell_type": "code",
   "execution_count": null,
   "id": "a65068a0-9c19-411f-b14a-dc53de6006a9",
   "metadata": {},
   "outputs": [],
   "source": [
    "# Basic EDA reporting\n",
    "df = pd.DataFrame(np.abs(np.random.randn(50, 5)), columns=['A','B','C','D','E'])"
   ]
  },
  {
   "cell_type": "code",
   "execution_count": null,
   "id": "6fa653ec-d0ea-4e83-b4cf-9ebfba125945",
   "metadata": {},
   "outputs": [],
   "source": [
    "profile = ProfileReport(df, title=\"Profiling Report\")\n",
    "profile"
   ]
  },
  {
   "cell_type": "code",
   "execution_count": null,
   "id": "ea65177f-64a8-42c4-92ca-c4ae277971b6",
   "metadata": {},
   "outputs": [],
   "source": []
  }
 ],
 "metadata": {
  "kernelspec": {
   "display_name": "Python 3 (ipykernel)",
   "language": "python",
   "name": "python3"
  },
  "language_info": {
   "codemirror_mode": {
    "name": "ipython",
    "version": 3
   },
   "file_extension": ".py",
   "mimetype": "text/x-python",
   "name": "python",
   "nbconvert_exporter": "python",
   "pygments_lexer": "ipython3",
   "version": "3.10.13"
  }
 },
 "nbformat": 4,
 "nbformat_minor": 5
}
